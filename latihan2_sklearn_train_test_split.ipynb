{
 "cells": [
  {
   "cell_type": "code",
   "execution_count": 38,
   "metadata": {
    "collapsed": true
   },
   "outputs": [],
   "source": [
    "import sklearn\n",
    "from sklearn import datasets\n",
    "iris = datasets.load_iris()"
   ]
  },
  {
   "cell_type": "code",
   "execution_count": 39,
   "outputs": [],
   "source": [
    "x = iris.data\n",
    "y = iris.target"
   ],
   "metadata": {
    "collapsed": false,
    "pycharm": {
     "name": "#%%\n"
    }
   }
  },
  {
   "cell_type": "code",
   "execution_count": 40,
   "outputs": [
    {
     "name": "stdout",
     "output_type": "stream",
     "text": [
      "[[5.5 2.6 4.4 1.2]\n",
      " [6.7 3.1 5.6 2.4]\n",
      " [4.9 2.4 3.3 1. ]\n",
      " [5.6 2.7 4.2 1.3]\n",
      " [4.8 3.4 1.9 0.2]\n",
      " [5.6 2.8 4.9 2. ]\n",
      " [4.9 3.6 1.4 0.1]\n",
      " [5.7 4.4 1.5 0.4]\n",
      " [5.5 2.4 3.7 1. ]\n",
      " [5.4 3.9 1.7 0.4]\n",
      " [5.1 3.3 1.7 0.5]\n",
      " [6.5 3.  5.2 2. ]\n",
      " [6.1 2.9 4.7 1.4]\n",
      " [5.  3.4 1.6 0.4]\n",
      " [5.2 2.7 3.9 1.4]\n",
      " [4.4 3.  1.3 0.2]\n",
      " [4.3 3.  1.1 0.1]\n",
      " [4.9 2.5 4.5 1.7]\n",
      " [4.4 3.2 1.3 0.2]\n",
      " [5.8 2.7 5.1 1.9]\n",
      " [4.4 2.9 1.4 0.2]\n",
      " [6.3 2.9 5.6 1.8]\n",
      " [6.2 3.4 5.4 2.3]\n",
      " [6.4 3.2 5.3 2.3]\n",
      " [6.6 3.  4.4 1.4]\n",
      " [5.9 3.  4.2 1.5]\n",
      " [5.5 2.3 4.  1.3]\n",
      " [6.3 2.8 5.1 1.5]\n",
      " [6.  2.2 4.  1. ]\n",
      " [6.4 3.2 4.5 1.5]]\n"
     ]
    },
    {
     "data": {
      "text/plain": "30"
     },
     "execution_count": 40,
     "metadata": {},
     "output_type": "execute_result"
    }
   ],
   "source": [
    "from sklearn.model_selection import train_test_split\n",
    "\n",
    "# membagi dataset menjadi training dan testing\n",
    "x_train, x_test, y_train, y_test = train_test_split(x, y, test_size=0.2)\n",
    "print(x_test)\n",
    "len(x_test)"
   ],
   "metadata": {
    "collapsed": false,
    "pycharm": {
     "name": "#%%\n"
    }
   }
  }
 ],
 "metadata": {
  "kernelspec": {
   "display_name": "Python 3",
   "language": "python",
   "name": "python3"
  },
  "language_info": {
   "codemirror_mode": {
    "name": "ipython",
    "version": 2
   },
   "file_extension": ".py",
   "mimetype": "text/x-python",
   "name": "python",
   "nbconvert_exporter": "python",
   "pygments_lexer": "ipython2",
   "version": "2.7.6"
  }
 },
 "nbformat": 4,
 "nbformat_minor": 0
}